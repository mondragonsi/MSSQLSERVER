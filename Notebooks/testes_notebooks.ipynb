{
    "metadata": {
        "kernelspec": {
            "name": "SQL",
            "display_name": "SQL",
            "language": "sql"
        },
        "language_info": {
            "name": "sql",
            "version": ""
        }
    },
    "nbformat_minor": 2,
    "nbformat": 4,
    "cells": [
        {
            "cell_type": "markdown",
            "source": [
                "Criando um banco de dados novinho!"
            ],
            "metadata": {
                "azdata_cell_guid": "69fb2a58-231b-4a8d-a09e-3c40a8d7ae4e"
            },
            "attachments": {}
        },
        {
            "cell_type": "code",
            "source": [
                "-- Create a new database called 'usuario'\n",
                "-- Connect to the 'master' database to run this snippet\n",
                "USE master\n",
                "GO\n",
                "-- Create the new database if it does not exist already\n",
                "IF NOT EXISTS (\n",
                "    SELECT [name]\n",
                "        FROM sys.databases\n",
                "        WHERE [name] = N'usuario'\n",
                ")\n",
                "CREATE DATABASE usuario\n",
                "GO"
            ],
            "metadata": {
                "azdata_cell_guid": "f3eccc0e-9640-4bba-afb5-ce3759d6d262",
                "language": "sql",
                "tags": [
                    "hide_input"
                ]
            },
            "outputs": [
                {
                    "output_type": "display_data",
                    "data": {
                        "text/html": "Commands completed successfully."
                    },
                    "metadata": {}
                },
                {
                    "output_type": "display_data",
                    "data": {
                        "text/html": "Commands completed successfully."
                    },
                    "metadata": {}
                },
                {
                    "output_type": "display_data",
                    "data": {
                        "text/html": "Total execution time: 00:00:00.233"
                    },
                    "metadata": {}
                }
            ],
            "execution_count": 1
        },
        {
            "cell_type": "markdown",
            "source": [
                "Criando tabela"
            ],
            "metadata": {
                "azdata_cell_guid": "842ee574-731c-42f6-8d19-5ca7c8c20247"
            },
            "attachments": {}
        },
        {
            "cell_type": "code",
            "source": [
                "-- Create a new table called '[usuario]' in schema '[dbo]'\n",
                "-- Drop the table if it already exists\n",
                "IF OBJECT_ID('[dbo].[usuario]', 'U') IS NOT NULL\n",
                "DROP TABLE [dbo].[usuario]\n",
                "GO\n",
                "\n",
                "use usuario;\n",
                "\n",
                "-- Create the table in the specified schema\n",
                "CREATE TABLE [dbo].[usuario]\n",
                "(\n",
                "    [Id] INT NOT NULL PRIMARY KEY, -- Primary Key column\n",
                "    [nome] NVARCHAR(50) NOT NULL,\n",
                "    [email] NVARCHAR(50) NOT NULL\n",
                "    -- Specify more columns here\n",
                ");\n",
                "GO"
            ],
            "metadata": {
                "azdata_cell_guid": "c9786867-21c6-485b-baaa-678cacfb91c0",
                "language": "sql",
                "tags": [
                    "hide_input"
                ]
            },
            "outputs": [
                {
                    "output_type": "display_data",
                    "data": {
                        "text/html": "Commands completed successfully."
                    },
                    "metadata": {}
                },
                {
                    "output_type": "display_data",
                    "data": {
                        "text/html": "Commands completed successfully."
                    },
                    "metadata": {}
                },
                {
                    "output_type": "display_data",
                    "data": {
                        "text/html": "Total execution time: 00:00:00.008"
                    },
                    "metadata": {}
                }
            ],
            "execution_count": 4
        },
        {
            "cell_type": "code",
            "source": [
                "use usuario;\n",
                "\n",
                "-- Insert rows into table 'usuario' in schema '[dbo]'\n",
                "INSERT INTO [dbo].[usuario]\n",
                "( -- Columns to insert data into\n",
                " [Id],[nome], [email]\n",
                ")\n",
                "VALUES\n",
                "( -- First row: values for the columns in the list above\n",
                " 3,'Alice', 'Alice@'\n",
                ")\n",
                "-- Add more rows here\n",
                "GO"
            ],
            "metadata": {
                "language": "sql",
                "azdata_cell_guid": "b1ba1ab6-b6e1-4ee6-a990-95002b426d2b"
            },
            "outputs": [
                {
                    "output_type": "display_data",
                    "data": {
                        "text/html": "(1 row affected)"
                    },
                    "metadata": {}
                },
                {
                    "output_type": "display_data",
                    "data": {
                        "text/html": "Total execution time: 00:00:00.002"
                    },
                    "metadata": {}
                }
            ],
            "execution_count": 3
        },
        {
            "cell_type": "code",
            "source": [
                "select * from usuario"
            ],
            "metadata": {
                "language": "sql",
                "azdata_cell_guid": "ea6ef5db-c472-4fea-82d9-b94a54ea1fa4"
            },
            "outputs": [
                {
                    "output_type": "display_data",
                    "data": {
                        "text/html": "(3 rows affected)"
                    },
                    "metadata": {}
                },
                {
                    "output_type": "display_data",
                    "data": {
                        "text/html": "Total execution time: 00:00:00.004"
                    },
                    "metadata": {}
                },
                {
                    "output_type": "execute_result",
                    "metadata": {},
                    "execution_count": 13,
                    "data": {
                        "application/vnd.dataresource+json": {
                            "schema": {
                                "fields": [
                                    {
                                        "name": "Id"
                                    },
                                    {
                                        "name": "nome"
                                    },
                                    {
                                        "name": "email"
                                    }
                                ]
                            },
                            "data": [
                                {
                                    "0": "1",
                                    "1": "Bruno",
                                    "2": "mondragon@"
                                },
                                {
                                    "0": "2",
                                    "1": "Debora",
                                    "2": "De@"
                                },
                                {
                                    "0": "3",
                                    "1": "Alice",
                                    "2": "Alice@"
                                }
                            ]
                        },
                        "text/html": [
                            "<table>",
                            "<tr><th>Id</th><th>nome</th><th>email</th></tr>",
                            "<tr><td>1</td><td>Bruno</td><td>mondragon@</td></tr>",
                            "<tr><td>2</td><td>Debora</td><td>De@</td></tr>",
                            "<tr><td>3</td><td>Alice</td><td>Alice@</td></tr>",
                            "</table>"
                        ]
                    }
                }
            ],
            "execution_count": 13
        },
        {
            "cell_type": "code",
            "source": [
                "SELECT * FROM sys.tables "
            ],
            "metadata": {
                "language": "sql",
                "azdata_cell_guid": "acf728f9-1a3d-4e74-a9b7-d464a95adf01"
            },
            "outputs": [
                {
                    "output_type": "display_data",
                    "data": {
                        "text/html": "(1 row affected)"
                    },
                    "metadata": {}
                },
                {
                    "output_type": "display_data",
                    "data": {
                        "text/html": "Total execution time: 00:00:00.023"
                    },
                    "metadata": {}
                },
                {
                    "output_type": "execute_result",
                    "metadata": {},
                    "execution_count": 12,
                    "data": {
                        "application/vnd.dataresource+json": {
                            "schema": {
                                "fields": [
                                    {
                                        "name": "name"
                                    },
                                    {
                                        "name": "object_id"
                                    },
                                    {
                                        "name": "principal_id"
                                    },
                                    {
                                        "name": "schema_id"
                                    },
                                    {
                                        "name": "parent_object_id"
                                    },
                                    {
                                        "name": "type"
                                    },
                                    {
                                        "name": "type_desc"
                                    },
                                    {
                                        "name": "create_date"
                                    },
                                    {
                                        "name": "modify_date"
                                    },
                                    {
                                        "name": "is_ms_shipped"
                                    },
                                    {
                                        "name": "is_published"
                                    },
                                    {
                                        "name": "is_schema_published"
                                    },
                                    {
                                        "name": "lob_data_space_id"
                                    },
                                    {
                                        "name": "filestream_data_space_id"
                                    },
                                    {
                                        "name": "max_column_id_used"
                                    },
                                    {
                                        "name": "lock_on_bulk_load"
                                    },
                                    {
                                        "name": "uses_ansi_nulls"
                                    },
                                    {
                                        "name": "is_replicated"
                                    },
                                    {
                                        "name": "has_replication_filter"
                                    },
                                    {
                                        "name": "is_merge_published"
                                    },
                                    {
                                        "name": "is_sync_tran_subscribed"
                                    },
                                    {
                                        "name": "has_unchecked_assembly_data"
                                    },
                                    {
                                        "name": "text_in_row_limit"
                                    },
                                    {
                                        "name": "large_value_types_out_of_row"
                                    },
                                    {
                                        "name": "is_tracked_by_cdc"
                                    },
                                    {
                                        "name": "lock_escalation"
                                    },
                                    {
                                        "name": "lock_escalation_desc"
                                    },
                                    {
                                        "name": "is_filetable"
                                    },
                                    {
                                        "name": "is_memory_optimized"
                                    },
                                    {
                                        "name": "durability"
                                    },
                                    {
                                        "name": "durability_desc"
                                    },
                                    {
                                        "name": "temporal_type"
                                    },
                                    {
                                        "name": "temporal_type_desc"
                                    },
                                    {
                                        "name": "history_table_id"
                                    },
                                    {
                                        "name": "is_remote_data_archive_enabled"
                                    },
                                    {
                                        "name": "is_external"
                                    },
                                    {
                                        "name": "history_retention_period"
                                    },
                                    {
                                        "name": "history_retention_period_unit"
                                    },
                                    {
                                        "name": "history_retention_period_unit_desc"
                                    },
                                    {
                                        "name": "is_node"
                                    },
                                    {
                                        "name": "is_edge"
                                    },
                                    {
                                        "name": "data_retention_period"
                                    },
                                    {
                                        "name": "data_retention_period_unit"
                                    },
                                    {
                                        "name": "data_retention_period_unit_desc"
                                    },
                                    {
                                        "name": "ledger_type"
                                    },
                                    {
                                        "name": "ledger_type_desc"
                                    },
                                    {
                                        "name": "ledger_view_id"
                                    },
                                    {
                                        "name": "is_dropped_ledger_table"
                                    }
                                ]
                            },
                            "data": [
                                {
                                    "0": "usuario",
                                    "1": "901578250",
                                    "2": "NULL",
                                    "3": "1",
                                    "4": "0",
                                    "5": "U ",
                                    "6": "USER_TABLE",
                                    "7": "2023-02-11 17:20:36.753",
                                    "8": "2023-02-11 17:20:36.753",
                                    "9": "0",
                                    "10": "0",
                                    "11": "0",
                                    "12": "0",
                                    "13": "NULL",
                                    "14": "3",
                                    "15": "0",
                                    "16": "1",
                                    "17": "0",
                                    "18": "0",
                                    "19": "0",
                                    "20": "0",
                                    "21": "0",
                                    "22": "0",
                                    "23": "0",
                                    "24": "0",
                                    "25": "0",
                                    "26": "TABLE",
                                    "27": "0",
                                    "28": "0",
                                    "29": "0",
                                    "30": "SCHEMA_AND_DATA",
                                    "31": "0",
                                    "32": "NON_TEMPORAL_TABLE",
                                    "33": "NULL",
                                    "34": "0",
                                    "35": "0",
                                    "36": "NULL",
                                    "37": "NULL",
                                    "38": "NULL",
                                    "39": "0",
                                    "40": "0",
                                    "41": "-1",
                                    "42": "-1",
                                    "43": "INFINITE",
                                    "44": "0",
                                    "45": "NON_LEDGER_TABLE",
                                    "46": "NULL",
                                    "47": "0"
                                }
                            ]
                        },
                        "text/html": [
                            "<table>",
                            "<tr><th>name</th><th>object_id</th><th>principal_id</th><th>schema_id</th><th>parent_object_id</th><th>type</th><th>type_desc</th><th>create_date</th><th>modify_date</th><th>is_ms_shipped</th><th>is_published</th><th>is_schema_published</th><th>lob_data_space_id</th><th>filestream_data_space_id</th><th>max_column_id_used</th><th>lock_on_bulk_load</th><th>uses_ansi_nulls</th><th>is_replicated</th><th>has_replication_filter</th><th>is_merge_published</th><th>is_sync_tran_subscribed</th><th>has_unchecked_assembly_data</th><th>text_in_row_limit</th><th>large_value_types_out_of_row</th><th>is_tracked_by_cdc</th><th>lock_escalation</th><th>lock_escalation_desc</th><th>is_filetable</th><th>is_memory_optimized</th><th>durability</th><th>durability_desc</th><th>temporal_type</th><th>temporal_type_desc</th><th>history_table_id</th><th>is_remote_data_archive_enabled</th><th>is_external</th><th>history_retention_period</th><th>history_retention_period_unit</th><th>history_retention_period_unit_desc</th><th>is_node</th><th>is_edge</th><th>data_retention_period</th><th>data_retention_period_unit</th><th>data_retention_period_unit_desc</th><th>ledger_type</th><th>ledger_type_desc</th><th>ledger_view_id</th><th>is_dropped_ledger_table</th></tr>",
                            "<tr><td>usuario</td><td>901578250</td><td>NULL</td><td>1</td><td>0</td><td>U </td><td>USER_TABLE</td><td>2023-02-11 17:20:36.753</td><td>2023-02-11 17:20:36.753</td><td>0</td><td>0</td><td>0</td><td>0</td><td>NULL</td><td>3</td><td>0</td><td>1</td><td>0</td><td>0</td><td>0</td><td>0</td><td>0</td><td>0</td><td>0</td><td>0</td><td>0</td><td>TABLE</td><td>0</td><td>0</td><td>0</td><td>SCHEMA_AND_DATA</td><td>0</td><td>NON_TEMPORAL_TABLE</td><td>NULL</td><td>0</td><td>0</td><td>NULL</td><td>NULL</td><td>NULL</td><td>0</td><td>0</td><td>-1</td><td>-1</td><td>INFINITE</td><td>0</td><td>NON_LEDGER_TABLE</td><td>NULL</td><td>0</td></tr>",
                            "</table>"
                        ]
                    }
                }
            ],
            "execution_count": 12
        },
        {
            "cell_type": "code",
            "source": [
                "SELECT   \n",
                "        t1.resource_type,  \n",
                "        t1.resource_database_id,  \n",
                "        t1.resource_associated_entity_id,  \n",
                "        t1.request_mode,  \n",
                "        t1.request_session_id,  \n",
                "        t2.blocking_session_id  \n",
                "    FROM sys.dm_tran_locks as t1  \n",
                "    INNER JOIN sys.dm_os_waiting_tasks as t2  \n",
                "        ON t1.lock_owner_address = t2.resource_address;"
            ],
            "metadata": {
                "azdata_cell_guid": "98a7c6c5-8177-4cfd-9ee8-82d7bdd256ad",
                "language": "sql"
            },
            "outputs": [
                {
                    "output_type": "display_data",
                    "data": {
                        "text/html": "(0 rows affected)"
                    },
                    "metadata": {}
                },
                {
                    "output_type": "display_data",
                    "data": {
                        "text/html": "Total execution time: 00:00:00.013"
                    },
                    "metadata": {}
                },
                {
                    "output_type": "execute_result",
                    "metadata": {},
                    "execution_count": 20,
                    "data": {
                        "application/vnd.dataresource+json": {
                            "schema": {
                                "fields": [
                                    {
                                        "name": "resource_type"
                                    },
                                    {
                                        "name": "resource_database_id"
                                    },
                                    {
                                        "name": "resource_associated_entity_id"
                                    },
                                    {
                                        "name": "request_mode"
                                    },
                                    {
                                        "name": "request_session_id"
                                    },
                                    {
                                        "name": "blocking_session_id"
                                    }
                                ]
                            },
                            "data": []
                        },
                        "text/html": [
                            "<table>",
                            "<tr><th>resource_type</th><th>resource_database_id</th><th>resource_associated_entity_id</th><th>request_mode</th><th>request_session_id</th><th>blocking_session_id</th></tr>",
                            "</table>"
                        ]
                    }
                }
            ],
            "execution_count": 20
        },
        {
            "cell_type": "code",
            "source": [
                "sp_who2"
            ],
            "metadata": {
                "language": "sql",
                "azdata_cell_guid": "e7a4757a-4dff-4e98-b2b9-4224c5460212"
            },
            "outputs": [
                {
                    "output_type": "display_data",
                    "data": {
                        "text/html": "(70 rows affected)"
                    },
                    "metadata": {}
                },
                {
                    "output_type": "display_data",
                    "data": {
                        "text/html": "Total execution time: 00:00:00.112"
                    },
                    "metadata": {}
                },
                {
                    "output_type": "execute_result",
                    "metadata": {},
                    "execution_count": 22,
                    "data": {
                        "application/vnd.dataresource+json": {
                            "schema": {
                                "fields": [
                                    {
                                        "name": "SPID"
                                    },
                                    {
                                        "name": "Status"
                                    },
                                    {
                                        "name": "Login"
                                    },
                                    {
                                        "name": "HostName"
                                    },
                                    {
                                        "name": "BlkBy"
                                    },
                                    {
                                        "name": "DBName"
                                    },
                                    {
                                        "name": "Command"
                                    },
                                    {
                                        "name": "CPUTime"
                                    },
                                    {
                                        "name": "DiskIO"
                                    },
                                    {
                                        "name": "LastBatch"
                                    },
                                    {
                                        "name": "ProgramName"
                                    },
                                    {
                                        "name": "SPID"
                                    },
                                    {
                                        "name": "REQUESTID"
                                    }
                                ]
                            },
                            "data": [
                                {
                                    "0": "1    ",
                                    "1": "sleeping                      ",
                                    "2": "sa",
                                    "3": "  .",
                                    "4": "  .",
                                    "5": "master",
                                    "6": "TASK MANAGER            ",
                                    "7": "0",
                                    "8": "0",
                                    "9": "02/13 15:00:56",
                                    "10": "                                              ",
                                    "11": "1    ",
                                    "12": "0    "
                                },
                                {
                                    "0": "2    ",
                                    "1": "sleeping                      ",
                                    "2": "sa",
                                    "3": "  .",
                                    "4": "  .",
                                    "5": "master",
                                    "6": "TASK MANAGER            ",
                                    "7": "0",
                                    "8": "0",
                                    "9": "02/13 15:00:56",
                                    "10": "                                              ",
                                    "11": "2    ",
                                    "12": "0    "
                                },
                                {
                                    "0": "3    ",
                                    "1": "sleeping                      ",
                                    "2": "sa",
                                    "3": "  .",
                                    "4": "  .",
                                    "5": "master",
                                    "6": "TASK MANAGER            ",
                                    "7": "0",
                                    "8": "0",
                                    "9": "02/13 15:00:56",
                                    "10": "                                              ",
                                    "11": "3    ",
                                    "12": "0    "
                                },
                                {
                                    "0": "4    ",
                                    "1": "sleeping                      ",
                                    "2": "sa",
                                    "3": "  .",
                                    "4": "  .",
                                    "5": "master",
                                    "6": "TASK MANAGER            ",
                                    "7": "0",
                                    "8": "0",
                                    "9": "02/13 15:00:56",
                                    "10": "                                              ",
                                    "11": "4    ",
                                    "12": "0    "
                                },
                                {
                                    "0": "5    ",
                                    "1": "BACKGROUND                    ",
                                    "2": "sa",
                                    "3": "  .",
                                    "4": "  .",
                                    "5": "NULL",
                                    "6": "XIO_LEASE_RENEWAL_WORKER",
                                    "7": "0",
                                    "8": "0",
                                    "9": "02/11 17:08:54",
                                    "10": "                                              ",
                                    "11": "5    ",
                                    "12": "0    "
                                },
                                {
                                    "0": "6    ",
                                    "1": "BACKGROUND                    ",
                                    "2": "sa",
                                    "3": "  .",
                                    "4": "  .",
                                    "5": "NULL",
                                    "6": "XIO_RETRY_WORKER        ",
                                    "7": "0",
                                    "8": "0",
                                    "9": "02/11 17:08:54",
                                    "10": "                                              ",
                                    "11": "6    ",
                                    "12": "0    "
                                },
                                {
                                    "0": "7    ",
                                    "1": "BACKGROUND                    ",
                                    "2": "sa",
                                    "3": "  .",
                                    "4": "  .",
                                    "5": "NULL",
                                    "6": "XTP_CKPT_AGENT          ",
                                    "7": "0",
                                    "8": "0",
                                    "9": "02/11 17:08:54",
                                    "10": "                                              ",
                                    "11": "7    ",
                                    "12": "0    "
                                },
                                {
                                    "0": "8    ",
                                    "1": "BACKGROUND                    ",
                                    "2": "sa",
                                    "3": "  .",
                                    "4": "  .",
                                    "5": "NULL",
                                    "6": "RECOVERY WRITER         ",
                                    "7": "0",
                                    "8": "0",
                                    "9": "02/11 17:08:54",
                                    "10": "                                              ",
                                    "11": "8    ",
                                    "12": "0    "
                                },
                                {
                                    "0": "9    ",
                                    "1": "BACKGROUND                    ",
                                    "2": "sa",
                                    "3": "  .",
                                    "4": "  .",
                                    "5": "NULL",
                                    "6": "LAZY WRITER             ",
                                    "7": "31",
                                    "8": "0",
                                    "9": "02/11 17:08:54",
                                    "10": "                                              ",
                                    "11": "9    ",
                                    "12": "0    "
                                },
                                {
                                    "0": "10   ",
                                    "1": "BACKGROUND                    ",
                                    "2": "sa",
                                    "3": "  .",
                                    "4": "  .",
                                    "5": "NULL",
                                    "6": "                        ",
                                    "7": "0",
                                    "8": "0",
                                    "9": "02/11 17:08:54",
                                    "10": "                                              ",
                                    "11": "10   ",
                                    "12": "0    "
                                },
                                {
                                    "0": "11   ",
                                    "1": "BACKGROUND                    ",
                                    "2": "sa",
                                    "3": "  .",
                                    "4": "  .",
                                    "5": "NULL",
                                    "6": "PVS_PREALLOCATOR        ",
                                    "7": "0",
                                    "8": "0",
                                    "9": "02/11 17:08:54",
                                    "10": "                                              ",
                                    "11": "11   ",
                                    "12": "0    "
                                },
                                {
                                    "0": "12   ",
                                    "1": "BACKGROUND                    ",
                                    "2": "sa",
                                    "3": "  .",
                                    "4": "  .",
                                    "5": "NULL",
                                    "6": "LOG WRITER              ",
                                    "7": "31",
                                    "8": "0",
                                    "9": "02/11 17:08:54",
                                    "10": "                                              ",
                                    "11": "12   ",
                                    "12": "0    "
                                },
                                {
                                    "0": "13   ",
                                    "1": "BACKGROUND                    ",
                                    "2": "sa",
                                    "3": "  .",
                                    "4": "  .",
                                    "5": "NULL",
                                    "6": "LOCK MONITOR            ",
                                    "7": "0",
                                    "8": "0",
                                    "9": "02/11 17:08:54",
                                    "10": "                                              ",
                                    "11": "13   ",
                                    "12": "0    "
                                },
                                {
                                    "0": "14   ",
                                    "1": "BACKGROUND                    ",
                                    "2": "sa",
                                    "3": "  .",
                                    "4": "  .",
                                    "5": "master",
                                    "6": "SIGNAL HANDLER          ",
                                    "7": "0",
                                    "8": "0",
                                    "9": "02/11 17:08:54",
                                    "10": "                                              ",
                                    "11": "14   ",
                                    "12": "0    "
                                },
                                {
                                    "0": "15   ",
                                    "1": "BACKGROUND                    ",
                                    "2": "sa",
                                    "3": "  .",
                                    "4": "  .",
                                    "5": "master",
                                    "6": "BRKR TASK               ",
                                    "7": "0",
                                    "8": "0",
                                    "9": "02/11 17:08:55",
                                    "10": "                                              ",
                                    "11": "15   ",
                                    "12": "0    "
                                },
                                {
                                    "0": "16   ",
                                    "1": "sleeping                      ",
                                    "2": "sa",
                                    "3": "  .",
                                    "4": "  .",
                                    "5": "master",
                                    "6": "TASK MANAGER            ",
                                    "7": "0",
                                    "8": "0",
                                    "9": "02/11 17:08:54",
                                    "10": "                                              ",
                                    "11": "16   ",
                                    "12": "0    "
                                },
                                {
                                    "0": "17   ",
                                    "1": "BACKGROUND                    ",
                                    "2": "sa",
                                    "3": "  .",
                                    "4": "  .",
                                    "5": "NULL",
                                    "6": "RECEIVE                 ",
                                    "7": "0",
                                    "8": "0",
                                    "9": "02/11 17:08:54",
                                    "10": "                                              ",
                                    "11": "17   ",
                                    "12": "0    "
                                },
                                {
                                    "0": "18   ",
                                    "1": "sleeping                      ",
                                    "2": "sa",
                                    "3": "  .",
                                    "4": "  .",
                                    "5": "master",
                                    "6": "TASK MANAGER            ",
                                    "7": "0",
                                    "8": "0",
                                    "9": "02/13 15:00:56",
                                    "10": "                                              ",
                                    "11": "18   ",
                                    "12": "0    "
                                },
                                {
                                    "0": "19   ",
                                    "1": "sleeping                      ",
                                    "2": "sa",
                                    "3": "  .",
                                    "4": "  .",
                                    "5": "master",
                                    "6": "TASK MANAGER            ",
                                    "7": "0",
                                    "8": "0",
                                    "9": "02/13 15:01:01",
                                    "10": "                                              ",
                                    "11": "19   ",
                                    "12": "0    "
                                },
                                {
                                    "0": "20   ",
                                    "1": "BACKGROUND                    ",
                                    "2": "sa",
                                    "3": "  .",
                                    "4": "  .",
                                    "5": "master",
                                    "6": "TRACE QUEUE TASK        ",
                                    "7": "0",
                                    "8": "0",
                                    "9": "02/11 17:08:54",
                                    "10": "                                              ",
                                    "11": "20   ",
                                    "12": "0    "
                                },
                                {
                                    "0": "21   ",
                                    "1": "BACKGROUND                    ",
                                    "2": "sa",
                                    "3": "  .",
                                    "4": "  .",
                                    "5": "NULL",
                                    "6": "SYSTEM_HEALTH_MONITOR   ",
                                    "7": "0",
                                    "8": "0",
                                    "9": "02/11 17:08:54",
                                    "10": "                                              ",
                                    "11": "21   ",
                                    "12": "0    "
                                },
                                {
                                    "0": "22   ",
                                    "1": "BACKGROUND                    ",
                                    "2": "sa",
                                    "3": "  .",
                                    "4": "  .",
                                    "5": "master",
                                    "6": "CHECKPOINT              ",
                                    "7": "15",
                                    "8": "15",
                                    "9": "02/11 17:08:54",
                                    "10": "                                              ",
                                    "11": "22   ",
                                    "12": "0    "
                                },
                                {
                                    "0": "23   ",
                                    "1": "BACKGROUND                    ",
                                    "2": "sa",
                                    "3": "  .",
                                    "4": "  .",
                                    "5": "master",
                                    "6": "BRKR EVENT HNDLR        ",
                                    "7": "0",
                                    "8": "31",
                                    "9": "02/11 17:08:55",
                                    "10": "                                              ",
                                    "11": "23   ",
                                    "12": "0    "
                                },
                                {
                                    "0": "24   ",
                                    "1": "BACKGROUND                    ",
                                    "2": "sa",
                                    "3": "  .",
                                    "4": "  .",
                                    "5": "master",
                                    "6": "                        ",
                                    "7": "0",
                                    "8": "0",
                                    "9": "02/11 17:08:54",
                                    "10": "                                              ",
                                    "11": "24   ",
                                    "12": "0    "
                                },
                                {
                                    "0": "25   ",
                                    "1": "BACKGROUND                    ",
                                    "2": "sa",
                                    "3": "  .",
                                    "4": "  .",
                                    "5": "master",
                                    "6": "BRKR TASK               ",
                                    "7": "0",
                                    "8": "0",
                                    "9": "02/11 17:08:55",
                                    "10": "                                              ",
                                    "11": "25   ",
                                    "12": "0    "
                                },
                                {
                                    "0": "26   ",
                                    "1": "BACKGROUND                    ",
                                    "2": "sa",
                                    "3": "  .",
                                    "4": "  .",
                                    "5": "master",
                                    "6": "BRKR TASK               ",
                                    "7": "15",
                                    "8": "0",
                                    "9": "02/11 17:08:55",
                                    "10": "                                              ",
                                    "11": "26   ",
                                    "12": "0    "
                                },
                                {
                                    "0": "27   ",
                                    "1": "BACKGROUND                    ",
                                    "2": "sa",
                                    "3": "  .",
                                    "4": "  .",
                                    "5": "master",
                                    "6": "BRKR TASK               ",
                                    "7": "0",
                                    "8": "0",
                                    "9": "02/11 17:08:55",
                                    "10": "                                              ",
                                    "11": "27   ",
                                    "12": "0    "
                                },
                                {
                                    "0": "28   ",
                                    "1": "BACKGROUND                    ",
                                    "2": "sa",
                                    "3": "  .",
                                    "4": "  .",
                                    "5": "NULL",
                                    "6": "XE DISPATCHER           ",
                                    "7": "15",
                                    "8": "0",
                                    "9": "02/11 17:09:14",
                                    "10": "                                              ",
                                    "11": "28   ",
                                    "12": "0    "
                                },
                                {
                                    "0": "29   ",
                                    "1": "BACKGROUND                    ",
                                    "2": "sa",
                                    "3": "  .",
                                    "4": "  .",
                                    "5": "NULL",
                                    "6": "RESOURCE MONITOR        ",
                                    "7": "3968",
                                    "8": "0",
                                    "9": "02/11 17:09:14",
                                    "10": "                                              ",
                                    "11": "29   ",
                                    "12": "0    "
                                },
                                {
                                    "0": "30   ",
                                    "1": "sleeping                      ",
                                    "2": "sa",
                                    "3": "  .",
                                    "4": "  .",
                                    "5": "master",
                                    "6": "TASK MANAGER            ",
                                    "7": "0",
                                    "8": "0",
                                    "9": "02/13 15:01:01",
                                    "10": "                                              ",
                                    "11": "30   ",
                                    "12": "0    "
                                },
                                {
                                    "0": "31   ",
                                    "1": "sleeping                      ",
                                    "2": "sa",
                                    "3": "  .",
                                    "4": "  .",
                                    "5": "master",
                                    "6": "TASK MANAGER            ",
                                    "7": "0",
                                    "8": "0",
                                    "9": "02/13 15:01:01",
                                    "10": "                                              ",
                                    "11": "31   ",
                                    "12": "0    "
                                },
                                {
                                    "0": "32   ",
                                    "1": "sleeping                      ",
                                    "2": "sa",
                                    "3": "  .",
                                    "4": "  .",
                                    "5": "master",
                                    "6": "TASK MANAGER            ",
                                    "7": "0",
                                    "8": "0",
                                    "9": "02/13 15:01:16",
                                    "10": "                                              ",
                                    "11": "32   ",
                                    "12": "0    "
                                },
                                {
                                    "0": "33   ",
                                    "1": "sleeping                      ",
                                    "2": "sa",
                                    "3": "  .",
                                    "4": "  .",
                                    "5": "master",
                                    "6": "TASK MANAGER            ",
                                    "7": "0",
                                    "8": "0",
                                    "9": "02/13 15:01:46",
                                    "10": "                                              ",
                                    "11": "33   ",
                                    "12": "0    "
                                },
                                {
                                    "0": "34   ",
                                    "1": "sleeping                      ",
                                    "2": "sa",
                                    "3": "  .",
                                    "4": "  .",
                                    "5": "master",
                                    "6": "TASK MANAGER            ",
                                    "7": "0",
                                    "8": "0",
                                    "9": "02/13 15:01:46",
                                    "10": "                                              ",
                                    "11": "34   ",
                                    "12": "0    "
                                },
                                {
                                    "0": "35   ",
                                    "1": "sleeping                      ",
                                    "2": "sa",
                                    "3": "  .",
                                    "4": "  .",
                                    "5": "master",
                                    "6": "TASK MANAGER            ",
                                    "7": "0",
                                    "8": "0",
                                    "9": "02/13 15:02:46",
                                    "10": "                                              ",
                                    "11": "35   ",
                                    "12": "0    "
                                },
                                {
                                    "0": "36   ",
                                    "1": "sleeping                      ",
                                    "2": "sa",
                                    "3": "  .",
                                    "4": "  .",
                                    "5": "master",
                                    "6": "TASK MANAGER            ",
                                    "7": "0",
                                    "8": "0",
                                    "9": "02/13 15:01:46",
                                    "10": "                                              ",
                                    "11": "36   ",
                                    "12": "0    "
                                },
                                {
                                    "0": "37   ",
                                    "1": "sleeping                      ",
                                    "2": "sa",
                                    "3": "  .",
                                    "4": "  .",
                                    "5": "master",
                                    "6": "TASK MANAGER            ",
                                    "7": "0",
                                    "8": "0",
                                    "9": "02/13 15:01:46",
                                    "10": "                                              ",
                                    "11": "37   ",
                                    "12": "0    "
                                },
                                {
                                    "0": "38   ",
                                    "1": "sleeping                      ",
                                    "2": "sa",
                                    "3": "  .",
                                    "4": "  .",
                                    "5": "master",
                                    "6": "TASK MANAGER            ",
                                    "7": "0",
                                    "8": "0",
                                    "9": "02/13 15:01:46",
                                    "10": "                                              ",
                                    "11": "38   ",
                                    "12": "0    "
                                },
                                {
                                    "0": "39   ",
                                    "1": "sleeping                      ",
                                    "2": "sa",
                                    "3": "  .",
                                    "4": "  .",
                                    "5": "master",
                                    "6": "TASK MANAGER            ",
                                    "7": "0",
                                    "8": "0",
                                    "9": "02/13 15:01:46",
                                    "10": "                                              ",
                                    "11": "39   ",
                                    "12": "0    "
                                },
                                {
                                    "0": "40   ",
                                    "1": "sleeping                      ",
                                    "2": "sa",
                                    "3": "  .",
                                    "4": "  .",
                                    "5": "master",
                                    "6": "TASK MANAGER            ",
                                    "7": "0",
                                    "8": "0",
                                    "9": "02/13 15:01:46",
                                    "10": "                                              ",
                                    "11": "40   ",
                                    "12": "0    "
                                },
                                {
                                    "0": "41   ",
                                    "1": "sleeping                      ",
                                    "2": "sa",
                                    "3": "  .",
                                    "4": "  .",
                                    "5": "master",
                                    "6": "TASK MANAGER            ",
                                    "7": "0",
                                    "8": "0",
                                    "9": "02/13 14:56:45",
                                    "10": "                                              ",
                                    "11": "41   ",
                                    "12": "0    "
                                },
                                {
                                    "0": "42   ",
                                    "1": "sleeping                      ",
                                    "2": "sa",
                                    "3": "  .",
                                    "4": "  .",
                                    "5": "master",
                                    "6": "TASK MANAGER            ",
                                    "7": "0",
                                    "8": "0",
                                    "9": "02/13 15:01:46",
                                    "10": "                                              ",
                                    "11": "42   ",
                                    "12": "0    "
                                },
                                {
                                    "0": "43   ",
                                    "1": "sleeping                      ",
                                    "2": "sa",
                                    "3": "  .",
                                    "4": "  .",
                                    "5": "master",
                                    "6": "TASK MANAGER            ",
                                    "7": "0",
                                    "8": "0",
                                    "9": "02/13 14:56:45",
                                    "10": "                                              ",
                                    "11": "43   ",
                                    "12": "0    "
                                },
                                {
                                    "0": "44   ",
                                    "1": "sleeping                      ",
                                    "2": "sa",
                                    "3": "  .",
                                    "4": "  .",
                                    "5": "master",
                                    "6": "TASK MANAGER            ",
                                    "7": "0",
                                    "8": "0",
                                    "9": "02/13 15:01:46",
                                    "10": "                                              ",
                                    "11": "44   ",
                                    "12": "0    "
                                },
                                {
                                    "0": "45   ",
                                    "1": "BACKGROUND                    ",
                                    "2": "sa",
                                    "3": "  .",
                                    "4": "  .",
                                    "5": "NULL",
                                    "6": "XE TIMER                ",
                                    "7": "0",
                                    "8": "0",
                                    "9": "02/11 17:09:14",
                                    "10": "                                              ",
                                    "11": "45   ",
                                    "12": "0    "
                                },
                                {
                                    "0": "46   ",
                                    "1": "sleeping                      ",
                                    "2": "sa",
                                    "3": "  .",
                                    "4": "  .",
                                    "5": "master",
                                    "6": "TASK MANAGER            ",
                                    "7": "0",
                                    "8": "0",
                                    "9": "02/13 15:01:46",
                                    "10": "                                              ",
                                    "11": "46   ",
                                    "12": "0    "
                                },
                                {
                                    "0": "47   ",
                                    "1": "sleeping                      ",
                                    "2": "sa",
                                    "3": "  .",
                                    "4": "  .",
                                    "5": "master",
                                    "6": "TASK MANAGER            ",
                                    "7": "0",
                                    "8": "0",
                                    "9": "02/13 15:01:46",
                                    "10": "                                              ",
                                    "11": "47   ",
                                    "12": "0    "
                                },
                                {
                                    "0": "48   ",
                                    "1": "sleeping                      ",
                                    "2": "sa",
                                    "3": "  .",
                                    "4": "  .",
                                    "5": "master",
                                    "6": "TASK MANAGER            ",
                                    "7": "0",
                                    "8": "0",
                                    "9": "02/13 15:01:46",
                                    "10": "                                              ",
                                    "11": "48   ",
                                    "12": "0    "
                                },
                                {
                                    "0": "49   ",
                                    "1": "sleeping                      ",
                                    "2": "sa",
                                    "3": "  .",
                                    "4": "  .",
                                    "5": "master",
                                    "6": "TASK MANAGER            ",
                                    "7": "0",
                                    "8": "0",
                                    "9": "02/13 15:01:46",
                                    "10": "                                              ",
                                    "11": "49   ",
                                    "12": "0    "
                                },
                                {
                                    "0": "50   ",
                                    "1": "sleeping                      ",
                                    "2": "sa",
                                    "3": "  .",
                                    "4": "  .",
                                    "5": "master",
                                    "6": "TASK MANAGER            ",
                                    "7": "47",
                                    "8": "0",
                                    "9": "02/13 14:56:45",
                                    "10": "                                              ",
                                    "11": "50   ",
                                    "12": "0    "
                                },
                                {
                                    "0": "51   ",
                                    "1": "sleeping                      ",
                                    "2": "NT SERVICE\\SQLAgent$LAB",
                                    "3": "SRVDB01D          ",
                                    "4": "  .",
                                    "5": "msdb",
                                    "6": "AWAITING COMMAND        ",
                                    "7": "0",
                                    "8": "0",
                                    "9": "02/11 17:08:55",
                                    "10": "SQLAgent - Email Logger                       ",
                                    "11": "51   ",
                                    "12": "0    "
                                },
                                {
                                    "0": "52   ",
                                    "1": "sleeping                      ",
                                    "2": "NT SERVICE\\SQLTELEMETRY$LAB",
                                    "3": "SRVDB01D          ",
                                    "4": "  .",
                                    "5": "master",
                                    "6": "AWAITING COMMAND        ",
                                    "7": "0",
                                    "8": "0",
                                    "9": "02/13 14:59:20",
                                    "10": "SQLServerCEIP                                 ",
                                    "11": "52   ",
                                    "12": "0    "
                                },
                                {
                                    "0": "53   ",
                                    "1": "sleeping                      ",
                                    "2": "NT SERVICE\\SQLAgent$LAB",
                                    "3": "SRVDB01D          ",
                                    "4": "  .",
                                    "5": "msdb",
                                    "6": "AWAITING COMMAND        ",
                                    "7": "0",
                                    "8": "232",
                                    "9": "02/11 17:08:56",
                                    "10": "SQLAgent - Generic Refresher                  ",
                                    "11": "53   ",
                                    "12": "0    "
                                },
                                {
                                    "0": "54   ",
                                    "1": "sleeping                      ",
                                    "2": "NT SERVICE\\SQLAgent$LAB",
                                    "3": "SRVDB01D          ",
                                    "4": "  .",
                                    "5": "msdb",
                                    "6": "AWAITING COMMAND        ",
                                    "7": "0",
                                    "8": "120",
                                    "9": "02/11 17:08:57",
                                    "10": "SQLAgent - Contained AG                       ",
                                    "11": "54   ",
                                    "12": "0    "
                                },
                                {
                                    "0": "55   ",
                                    "1": "sleeping                      ",
                                    "2": "SRVDB01D\\Administrator",
                                    "3": "SRVDB01D          ",
                                    "4": "  .",
                                    "5": "master",
                                    "6": "AWAITING COMMAND        ",
                                    "7": "1516",
                                    "8": "137",
                                    "9": "02/13 08:30:46",
                                    "10": "Microsoft SQL Server Management Studio        ",
                                    "11": "55   ",
                                    "12": "0    "
                                },
                                {
                                    "0": "56   ",
                                    "1": "sleeping                      ",
                                    "2": "NT SERVICE\\SQLAgent$LAB",
                                    "3": "SRVDB01D          ",
                                    "4": "  .",
                                    "5": "msdb",
                                    "6": "AWAITING COMMAND        ",
                                    "7": "0",
                                    "8": "7",
                                    "9": "02/13 08:23:10",
                                    "10": "SQLAgent - Job invocation engine              ",
                                    "11": "56   ",
                                    "12": "0    "
                                },
                                {
                                    "0": "57   ",
                                    "1": "sleeping                      ",
                                    "2": "sa",
                                    "3": "  .",
                                    "4": "  .",
                                    "5": "master",
                                    "6": "TASK MANAGER            ",
                                    "7": "0",
                                    "8": "0",
                                    "9": "02/13 15:01:46",
                                    "10": "                                              ",
                                    "11": "57   ",
                                    "12": "0    "
                                },
                                {
                                    "0": "58   ",
                                    "1": "sleeping                      ",
                                    "2": "SRVDB01D\\Administrator",
                                    "3": "SRVDB01D          ",
                                    "4": "  .",
                                    "5": "AdventureWorks2019",
                                    "6": "AWAITING COMMAND        ",
                                    "7": "93",
                                    "8": "3866",
                                    "9": "02/13 12:31:00",
                                    "10": "Microsoft SQL Server Management Studio - Query",
                                    "11": "58   ",
                                    "12": "0    "
                                },
                                {
                                    "0": "59   ",
                                    "1": "sleeping                      ",
                                    "2": "sa",
                                    "3": "  .",
                                    "4": "  .",
                                    "5": "master",
                                    "6": "TASK MANAGER            ",
                                    "7": "0",
                                    "8": "0",
                                    "9": "02/13 15:01:46",
                                    "10": "                                              ",
                                    "11": "59   ",
                                    "12": "0    "
                                },
                                {
                                    "0": "60   ",
                                    "1": "sleeping                      ",
                                    "2": "sa",
                                    "3": "  .",
                                    "4": "  .",
                                    "5": "master",
                                    "6": "TASK MANAGER            ",
                                    "7": "0",
                                    "8": "0",
                                    "9": "02/13 15:01:46",
                                    "10": "                                              ",
                                    "11": "60   ",
                                    "12": "0    "
                                },
                                {
                                    "0": "61   ",
                                    "1": "sleeping                      ",
                                    "2": "sa",
                                    "3": "  .",
                                    "4": "  .",
                                    "5": "master",
                                    "6": "TASK MANAGER            ",
                                    "7": "0",
                                    "8": "0",
                                    "9": "02/13 15:02:46",
                                    "10": "                                              ",
                                    "11": "61   ",
                                    "12": "0    "
                                },
                                {
                                    "0": "62   ",
                                    "1": "sleeping                      ",
                                    "2": "sa",
                                    "3": "  .",
                                    "4": "  .",
                                    "5": "master",
                                    "6": "TASK MANAGER            ",
                                    "7": "0",
                                    "8": "0",
                                    "9": "02/13 15:02:46",
                                    "10": "                                              ",
                                    "11": "62   ",
                                    "12": "0    "
                                },
                                {
                                    "0": "63   ",
                                    "1": "sleeping                      ",
                                    "2": "sa",
                                    "3": "  .",
                                    "4": "  .",
                                    "5": "master",
                                    "6": "TASK MANAGER            ",
                                    "7": "0",
                                    "8": "0",
                                    "9": "02/13 15:02:46",
                                    "10": "                                              ",
                                    "11": "63   ",
                                    "12": "0    "
                                },
                                {
                                    "0": "64   ",
                                    "1": "sleeping                      ",
                                    "2": "sa",
                                    "3": "  .",
                                    "4": "  .",
                                    "5": "master",
                                    "6": "TASK MANAGER            ",
                                    "7": "0",
                                    "8": "0",
                                    "9": "02/13 15:02:46",
                                    "10": "                                              ",
                                    "11": "64   ",
                                    "12": "0    "
                                },
                                {
                                    "0": "65   ",
                                    "1": "RUNNABLE                      ",
                                    "2": "sa",
                                    "3": "Brunos-MacBook-Pro",
                                    "4": "  .",
                                    "5": "usuario",
                                    "6": "SELECT INTO             ",
                                    "7": "32",
                                    "8": "0",
                                    "9": "02/13 15:02:52",
                                    "10": "azdata-Query                                  ",
                                    "11": "65   ",
                                    "12": "0    "
                                },
                                {
                                    "0": "67   ",
                                    "1": "sleeping                      ",
                                    "2": "sa",
                                    "3": "  .",
                                    "4": "  .",
                                    "5": "master",
                                    "6": "TASK MANAGER            ",
                                    "7": "0",
                                    "8": "0",
                                    "9": "02/13 14:57:46",
                                    "10": "                                              ",
                                    "11": "67   ",
                                    "12": "0    "
                                },
                                {
                                    "0": "73   ",
                                    "1": "sleeping                      ",
                                    "2": "sa",
                                    "3": "  .",
                                    "4": "  .",
                                    "5": "master",
                                    "6": "TASK MANAGER            ",
                                    "7": "0",
                                    "8": "0",
                                    "9": "02/13 14:57:46",
                                    "10": "                                              ",
                                    "11": "73   ",
                                    "12": "0    "
                                },
                                {
                                    "0": "75   ",
                                    "1": "BACKGROUND                    ",
                                    "2": "sa",
                                    "3": "  .",
                                    "4": "  .",
                                    "5": "NULL",
                                    "6": "PARALLEL REDO TASK      ",
                                    "7": "0",
                                    "8": "0",
                                    "9": "02/13 08:30:37",
                                    "10": "                                              ",
                                    "11": "75   ",
                                    "12": "0    "
                                },
                                {
                                    "0": "76   ",
                                    "1": "BACKGROUND                    ",
                                    "2": "sa",
                                    "3": "  .",
                                    "4": "  .",
                                    "5": "NULL",
                                    "6": "PARALLEL REDO TASK      ",
                                    "7": "0",
                                    "8": "0",
                                    "9": "02/13 08:30:37",
                                    "10": "                                              ",
                                    "11": "76   ",
                                    "12": "0    "
                                },
                                {
                                    "0": "78   ",
                                    "1": "sleeping                      ",
                                    "2": "SRVDB01D\\Administrator",
                                    "3": "SRVDB01D          ",
                                    "4": "  .",
                                    "5": "AdventureWorks2019",
                                    "6": "AWAITING COMMAND        ",
                                    "7": "234",
                                    "8": "1461",
                                    "9": "02/13 12:31:00",
                                    "10": "Microsoft SQL Server Management Studio - Query",
                                    "11": "78   ",
                                    "12": "0    "
                                }
                            ]
                        },
                        "text/html": [
                            "<table>",
                            "<tr><th>SPID</th><th>Status</th><th>Login</th><th>HostName</th><th>BlkBy</th><th>DBName</th><th>Command</th><th>CPUTime</th><th>DiskIO</th><th>LastBatch</th><th>ProgramName</th><th>SPID</th><th>REQUESTID</th></tr>",
                            "<tr><td>1    </td><td>sleeping                      </td><td>sa</td><td>  .</td><td>  .</td><td>master</td><td>TASK MANAGER            </td><td>0</td><td>0</td><td>02/13 15:00:56</td><td>                                              </td><td>1    </td><td>0    </td></tr>",
                            "<tr><td>2    </td><td>sleeping                      </td><td>sa</td><td>  .</td><td>  .</td><td>master</td><td>TASK MANAGER            </td><td>0</td><td>0</td><td>02/13 15:00:56</td><td>                                              </td><td>2    </td><td>0    </td></tr>",
                            "<tr><td>3    </td><td>sleeping                      </td><td>sa</td><td>  .</td><td>  .</td><td>master</td><td>TASK MANAGER            </td><td>0</td><td>0</td><td>02/13 15:00:56</td><td>                                              </td><td>3    </td><td>0    </td></tr>",
                            "<tr><td>4    </td><td>sleeping                      </td><td>sa</td><td>  .</td><td>  .</td><td>master</td><td>TASK MANAGER            </td><td>0</td><td>0</td><td>02/13 15:00:56</td><td>                                              </td><td>4    </td><td>0    </td></tr>",
                            "<tr><td>5    </td><td>BACKGROUND                    </td><td>sa</td><td>  .</td><td>  .</td><td>NULL</td><td>XIO_LEASE_RENEWAL_WORKER</td><td>0</td><td>0</td><td>02/11 17:08:54</td><td>                                              </td><td>5    </td><td>0    </td></tr>",
                            "<tr><td>6    </td><td>BACKGROUND                    </td><td>sa</td><td>  .</td><td>  .</td><td>NULL</td><td>XIO_RETRY_WORKER        </td><td>0</td><td>0</td><td>02/11 17:08:54</td><td>                                              </td><td>6    </td><td>0    </td></tr>",
                            "<tr><td>7    </td><td>BACKGROUND                    </td><td>sa</td><td>  .</td><td>  .</td><td>NULL</td><td>XTP_CKPT_AGENT          </td><td>0</td><td>0</td><td>02/11 17:08:54</td><td>                                              </td><td>7    </td><td>0    </td></tr>",
                            "<tr><td>8    </td><td>BACKGROUND                    </td><td>sa</td><td>  .</td><td>  .</td><td>NULL</td><td>RECOVERY WRITER         </td><td>0</td><td>0</td><td>02/11 17:08:54</td><td>                                              </td><td>8    </td><td>0    </td></tr>",
                            "<tr><td>9    </td><td>BACKGROUND                    </td><td>sa</td><td>  .</td><td>  .</td><td>NULL</td><td>LAZY WRITER             </td><td>31</td><td>0</td><td>02/11 17:08:54</td><td>                                              </td><td>9    </td><td>0    </td></tr>",
                            "<tr><td>10   </td><td>BACKGROUND                    </td><td>sa</td><td>  .</td><td>  .</td><td>NULL</td><td>                        </td><td>0</td><td>0</td><td>02/11 17:08:54</td><td>                                              </td><td>10   </td><td>0    </td></tr>",
                            "<tr><td>11   </td><td>BACKGROUND                    </td><td>sa</td><td>  .</td><td>  .</td><td>NULL</td><td>PVS_PREALLOCATOR        </td><td>0</td><td>0</td><td>02/11 17:08:54</td><td>                                              </td><td>11   </td><td>0    </td></tr>",
                            "<tr><td>12   </td><td>BACKGROUND                    </td><td>sa</td><td>  .</td><td>  .</td><td>NULL</td><td>LOG WRITER              </td><td>31</td><td>0</td><td>02/11 17:08:54</td><td>                                              </td><td>12   </td><td>0    </td></tr>",
                            "<tr><td>13   </td><td>BACKGROUND                    </td><td>sa</td><td>  .</td><td>  .</td><td>NULL</td><td>LOCK MONITOR            </td><td>0</td><td>0</td><td>02/11 17:08:54</td><td>                                              </td><td>13   </td><td>0    </td></tr>",
                            "<tr><td>14   </td><td>BACKGROUND                    </td><td>sa</td><td>  .</td><td>  .</td><td>master</td><td>SIGNAL HANDLER          </td><td>0</td><td>0</td><td>02/11 17:08:54</td><td>                                              </td><td>14   </td><td>0    </td></tr>",
                            "<tr><td>15   </td><td>BACKGROUND                    </td><td>sa</td><td>  .</td><td>  .</td><td>master</td><td>BRKR TASK               </td><td>0</td><td>0</td><td>02/11 17:08:55</td><td>                                              </td><td>15   </td><td>0    </td></tr>",
                            "<tr><td>16   </td><td>sleeping                      </td><td>sa</td><td>  .</td><td>  .</td><td>master</td><td>TASK MANAGER            </td><td>0</td><td>0</td><td>02/11 17:08:54</td><td>                                              </td><td>16   </td><td>0    </td></tr>",
                            "<tr><td>17   </td><td>BACKGROUND                    </td><td>sa</td><td>  .</td><td>  .</td><td>NULL</td><td>RECEIVE                 </td><td>0</td><td>0</td><td>02/11 17:08:54</td><td>                                              </td><td>17   </td><td>0    </td></tr>",
                            "<tr><td>18   </td><td>sleeping                      </td><td>sa</td><td>  .</td><td>  .</td><td>master</td><td>TASK MANAGER            </td><td>0</td><td>0</td><td>02/13 15:00:56</td><td>                                              </td><td>18   </td><td>0    </td></tr>",
                            "<tr><td>19   </td><td>sleeping                      </td><td>sa</td><td>  .</td><td>  .</td><td>master</td><td>TASK MANAGER            </td><td>0</td><td>0</td><td>02/13 15:01:01</td><td>                                              </td><td>19   </td><td>0    </td></tr>",
                            "<tr><td>20   </td><td>BACKGROUND                    </td><td>sa</td><td>  .</td><td>  .</td><td>master</td><td>TRACE QUEUE TASK        </td><td>0</td><td>0</td><td>02/11 17:08:54</td><td>                                              </td><td>20   </td><td>0    </td></tr>",
                            "<tr><td>21   </td><td>BACKGROUND                    </td><td>sa</td><td>  .</td><td>  .</td><td>NULL</td><td>SYSTEM_HEALTH_MONITOR   </td><td>0</td><td>0</td><td>02/11 17:08:54</td><td>                                              </td><td>21   </td><td>0    </td></tr>",
                            "<tr><td>22   </td><td>BACKGROUND                    </td><td>sa</td><td>  .</td><td>  .</td><td>master</td><td>CHECKPOINT              </td><td>15</td><td>15</td><td>02/11 17:08:54</td><td>                                              </td><td>22   </td><td>0    </td></tr>",
                            "<tr><td>23   </td><td>BACKGROUND                    </td><td>sa</td><td>  .</td><td>  .</td><td>master</td><td>BRKR EVENT HNDLR        </td><td>0</td><td>31</td><td>02/11 17:08:55</td><td>                                              </td><td>23   </td><td>0    </td></tr>",
                            "<tr><td>24   </td><td>BACKGROUND                    </td><td>sa</td><td>  .</td><td>  .</td><td>master</td><td>                        </td><td>0</td><td>0</td><td>02/11 17:08:54</td><td>                                              </td><td>24   </td><td>0    </td></tr>",
                            "<tr><td>25   </td><td>BACKGROUND                    </td><td>sa</td><td>  .</td><td>  .</td><td>master</td><td>BRKR TASK               </td><td>0</td><td>0</td><td>02/11 17:08:55</td><td>                                              </td><td>25   </td><td>0    </td></tr>",
                            "<tr><td>26   </td><td>BACKGROUND                    </td><td>sa</td><td>  .</td><td>  .</td><td>master</td><td>BRKR TASK               </td><td>15</td><td>0</td><td>02/11 17:08:55</td><td>                                              </td><td>26   </td><td>0    </td></tr>",
                            "<tr><td>27   </td><td>BACKGROUND                    </td><td>sa</td><td>  .</td><td>  .</td><td>master</td><td>BRKR TASK               </td><td>0</td><td>0</td><td>02/11 17:08:55</td><td>                                              </td><td>27   </td><td>0    </td></tr>",
                            "<tr><td>28   </td><td>BACKGROUND                    </td><td>sa</td><td>  .</td><td>  .</td><td>NULL</td><td>XE DISPATCHER           </td><td>15</td><td>0</td><td>02/11 17:09:14</td><td>                                              </td><td>28   </td><td>0    </td></tr>",
                            "<tr><td>29   </td><td>BACKGROUND                    </td><td>sa</td><td>  .</td><td>  .</td><td>NULL</td><td>RESOURCE MONITOR        </td><td>3968</td><td>0</td><td>02/11 17:09:14</td><td>                                              </td><td>29   </td><td>0    </td></tr>",
                            "<tr><td>30   </td><td>sleeping                      </td><td>sa</td><td>  .</td><td>  .</td><td>master</td><td>TASK MANAGER            </td><td>0</td><td>0</td><td>02/13 15:01:01</td><td>                                              </td><td>30   </td><td>0    </td></tr>",
                            "<tr><td>31   </td><td>sleeping                      </td><td>sa</td><td>  .</td><td>  .</td><td>master</td><td>TASK MANAGER            </td><td>0</td><td>0</td><td>02/13 15:01:01</td><td>                                              </td><td>31   </td><td>0    </td></tr>",
                            "<tr><td>32   </td><td>sleeping                      </td><td>sa</td><td>  .</td><td>  .</td><td>master</td><td>TASK MANAGER            </td><td>0</td><td>0</td><td>02/13 15:01:16</td><td>                                              </td><td>32   </td><td>0    </td></tr>",
                            "<tr><td>33   </td><td>sleeping                      </td><td>sa</td><td>  .</td><td>  .</td><td>master</td><td>TASK MANAGER            </td><td>0</td><td>0</td><td>02/13 15:01:46</td><td>                                              </td><td>33   </td><td>0    </td></tr>",
                            "<tr><td>34   </td><td>sleeping                      </td><td>sa</td><td>  .</td><td>  .</td><td>master</td><td>TASK MANAGER            </td><td>0</td><td>0</td><td>02/13 15:01:46</td><td>                                              </td><td>34   </td><td>0    </td></tr>",
                            "<tr><td>35   </td><td>sleeping                      </td><td>sa</td><td>  .</td><td>  .</td><td>master</td><td>TASK MANAGER            </td><td>0</td><td>0</td><td>02/13 15:02:46</td><td>                                              </td><td>35   </td><td>0    </td></tr>",
                            "<tr><td>36   </td><td>sleeping                      </td><td>sa</td><td>  .</td><td>  .</td><td>master</td><td>TASK MANAGER            </td><td>0</td><td>0</td><td>02/13 15:01:46</td><td>                                              </td><td>36   </td><td>0    </td></tr>",
                            "<tr><td>37   </td><td>sleeping                      </td><td>sa</td><td>  .</td><td>  .</td><td>master</td><td>TASK MANAGER            </td><td>0</td><td>0</td><td>02/13 15:01:46</td><td>                                              </td><td>37   </td><td>0    </td></tr>",
                            "<tr><td>38   </td><td>sleeping                      </td><td>sa</td><td>  .</td><td>  .</td><td>master</td><td>TASK MANAGER            </td><td>0</td><td>0</td><td>02/13 15:01:46</td><td>                                              </td><td>38   </td><td>0    </td></tr>",
                            "<tr><td>39   </td><td>sleeping                      </td><td>sa</td><td>  .</td><td>  .</td><td>master</td><td>TASK MANAGER            </td><td>0</td><td>0</td><td>02/13 15:01:46</td><td>                                              </td><td>39   </td><td>0    </td></tr>",
                            "<tr><td>40   </td><td>sleeping                      </td><td>sa</td><td>  .</td><td>  .</td><td>master</td><td>TASK MANAGER            </td><td>0</td><td>0</td><td>02/13 15:01:46</td><td>                                              </td><td>40   </td><td>0    </td></tr>",
                            "<tr><td>41   </td><td>sleeping                      </td><td>sa</td><td>  .</td><td>  .</td><td>master</td><td>TASK MANAGER            </td><td>0</td><td>0</td><td>02/13 14:56:45</td><td>                                              </td><td>41   </td><td>0    </td></tr>",
                            "<tr><td>42   </td><td>sleeping                      </td><td>sa</td><td>  .</td><td>  .</td><td>master</td><td>TASK MANAGER            </td><td>0</td><td>0</td><td>02/13 15:01:46</td><td>                                              </td><td>42   </td><td>0    </td></tr>",
                            "<tr><td>43   </td><td>sleeping                      </td><td>sa</td><td>  .</td><td>  .</td><td>master</td><td>TASK MANAGER            </td><td>0</td><td>0</td><td>02/13 14:56:45</td><td>                                              </td><td>43   </td><td>0    </td></tr>",
                            "<tr><td>44   </td><td>sleeping                      </td><td>sa</td><td>  .</td><td>  .</td><td>master</td><td>TASK MANAGER            </td><td>0</td><td>0</td><td>02/13 15:01:46</td><td>                                              </td><td>44   </td><td>0    </td></tr>",
                            "<tr><td>45   </td><td>BACKGROUND                    </td><td>sa</td><td>  .</td><td>  .</td><td>NULL</td><td>XE TIMER                </td><td>0</td><td>0</td><td>02/11 17:09:14</td><td>                                              </td><td>45   </td><td>0    </td></tr>",
                            "<tr><td>46   </td><td>sleeping                      </td><td>sa</td><td>  .</td><td>  .</td><td>master</td><td>TASK MANAGER            </td><td>0</td><td>0</td><td>02/13 15:01:46</td><td>                                              </td><td>46   </td><td>0    </td></tr>",
                            "<tr><td>47   </td><td>sleeping                      </td><td>sa</td><td>  .</td><td>  .</td><td>master</td><td>TASK MANAGER            </td><td>0</td><td>0</td><td>02/13 15:01:46</td><td>                                              </td><td>47   </td><td>0    </td></tr>",
                            "<tr><td>48   </td><td>sleeping                      </td><td>sa</td><td>  .</td><td>  .</td><td>master</td><td>TASK MANAGER            </td><td>0</td><td>0</td><td>02/13 15:01:46</td><td>                                              </td><td>48   </td><td>0    </td></tr>",
                            "<tr><td>49   </td><td>sleeping                      </td><td>sa</td><td>  .</td><td>  .</td><td>master</td><td>TASK MANAGER            </td><td>0</td><td>0</td><td>02/13 15:01:46</td><td>                                              </td><td>49   </td><td>0    </td></tr>",
                            "<tr><td>50   </td><td>sleeping                      </td><td>sa</td><td>  .</td><td>  .</td><td>master</td><td>TASK MANAGER            </td><td>47</td><td>0</td><td>02/13 14:56:45</td><td>                                              </td><td>50   </td><td>0    </td></tr>",
                            "<tr><td>51   </td><td>sleeping                      </td><td>NT SERVICE\\SQLAgent$LAB</td><td>SRVDB01D          </td><td>  .</td><td>msdb</td><td>AWAITING COMMAND        </td><td>0</td><td>0</td><td>02/11 17:08:55</td><td>SQLAgent - Email Logger                       </td><td>51   </td><td>0    </td></tr>",
                            "<tr><td>52   </td><td>sleeping                      </td><td>NT SERVICE\\SQLTELEMETRY$LAB</td><td>SRVDB01D          </td><td>  .</td><td>master</td><td>AWAITING COMMAND        </td><td>0</td><td>0</td><td>02/13 14:59:20</td><td>SQLServerCEIP                                 </td><td>52   </td><td>0    </td></tr>",
                            "<tr><td>53   </td><td>sleeping                      </td><td>NT SERVICE\\SQLAgent$LAB</td><td>SRVDB01D          </td><td>  .</td><td>msdb</td><td>AWAITING COMMAND        </td><td>0</td><td>232</td><td>02/11 17:08:56</td><td>SQLAgent - Generic Refresher                  </td><td>53   </td><td>0    </td></tr>",
                            "<tr><td>54   </td><td>sleeping                      </td><td>NT SERVICE\\SQLAgent$LAB</td><td>SRVDB01D          </td><td>  .</td><td>msdb</td><td>AWAITING COMMAND        </td><td>0</td><td>120</td><td>02/11 17:08:57</td><td>SQLAgent - Contained AG                       </td><td>54   </td><td>0    </td></tr>",
                            "<tr><td>55   </td><td>sleeping                      </td><td>SRVDB01D\\Administrator</td><td>SRVDB01D          </td><td>  .</td><td>master</td><td>AWAITING COMMAND        </td><td>1516</td><td>137</td><td>02/13 08:30:46</td><td>Microsoft SQL Server Management Studio        </td><td>55   </td><td>0    </td></tr>",
                            "<tr><td>56   </td><td>sleeping                      </td><td>NT SERVICE\\SQLAgent$LAB</td><td>SRVDB01D          </td><td>  .</td><td>msdb</td><td>AWAITING COMMAND        </td><td>0</td><td>7</td><td>02/13 08:23:10</td><td>SQLAgent - Job invocation engine              </td><td>56   </td><td>0    </td></tr>",
                            "<tr><td>57   </td><td>sleeping                      </td><td>sa</td><td>  .</td><td>  .</td><td>master</td><td>TASK MANAGER            </td><td>0</td><td>0</td><td>02/13 15:01:46</td><td>                                              </td><td>57   </td><td>0    </td></tr>",
                            "<tr><td>58   </td><td>sleeping                      </td><td>SRVDB01D\\Administrator</td><td>SRVDB01D          </td><td>  .</td><td>AdventureWorks2019</td><td>AWAITING COMMAND        </td><td>93</td><td>3866</td><td>02/13 12:31:00</td><td>Microsoft SQL Server Management Studio - Query</td><td>58   </td><td>0    </td></tr>",
                            "<tr><td>59   </td><td>sleeping                      </td><td>sa</td><td>  .</td><td>  .</td><td>master</td><td>TASK MANAGER            </td><td>0</td><td>0</td><td>02/13 15:01:46</td><td>                                              </td><td>59   </td><td>0    </td></tr>",
                            "<tr><td>60   </td><td>sleeping                      </td><td>sa</td><td>  .</td><td>  .</td><td>master</td><td>TASK MANAGER            </td><td>0</td><td>0</td><td>02/13 15:01:46</td><td>                                              </td><td>60   </td><td>0    </td></tr>",
                            "<tr><td>61   </td><td>sleeping                      </td><td>sa</td><td>  .</td><td>  .</td><td>master</td><td>TASK MANAGER            </td><td>0</td><td>0</td><td>02/13 15:02:46</td><td>                                              </td><td>61   </td><td>0    </td></tr>",
                            "<tr><td>62   </td><td>sleeping                      </td><td>sa</td><td>  .</td><td>  .</td><td>master</td><td>TASK MANAGER            </td><td>0</td><td>0</td><td>02/13 15:02:46</td><td>                                              </td><td>62   </td><td>0    </td></tr>",
                            "<tr><td>63   </td><td>sleeping                      </td><td>sa</td><td>  .</td><td>  .</td><td>master</td><td>TASK MANAGER            </td><td>0</td><td>0</td><td>02/13 15:02:46</td><td>                                              </td><td>63   </td><td>0    </td></tr>",
                            "<tr><td>64   </td><td>sleeping                      </td><td>sa</td><td>  .</td><td>  .</td><td>master</td><td>TASK MANAGER            </td><td>0</td><td>0</td><td>02/13 15:02:46</td><td>                                              </td><td>64   </td><td>0    </td></tr>",
                            "<tr><td>65   </td><td>RUNNABLE                      </td><td>sa</td><td>Brunos-MacBook-Pro</td><td>  .</td><td>usuario</td><td>SELECT INTO             </td><td>32</td><td>0</td><td>02/13 15:02:52</td><td>azdata-Query                                  </td><td>65   </td><td>0    </td></tr>",
                            "<tr><td>67   </td><td>sleeping                      </td><td>sa</td><td>  .</td><td>  .</td><td>master</td><td>TASK MANAGER            </td><td>0</td><td>0</td><td>02/13 14:57:46</td><td>                                              </td><td>67   </td><td>0    </td></tr>",
                            "<tr><td>73   </td><td>sleeping                      </td><td>sa</td><td>  .</td><td>  .</td><td>master</td><td>TASK MANAGER            </td><td>0</td><td>0</td><td>02/13 14:57:46</td><td>                                              </td><td>73   </td><td>0    </td></tr>",
                            "<tr><td>75   </td><td>BACKGROUND                    </td><td>sa</td><td>  .</td><td>  .</td><td>NULL</td><td>PARALLEL REDO TASK      </td><td>0</td><td>0</td><td>02/13 08:30:37</td><td>                                              </td><td>75   </td><td>0    </td></tr>",
                            "<tr><td>76   </td><td>BACKGROUND                    </td><td>sa</td><td>  .</td><td>  .</td><td>NULL</td><td>PARALLEL REDO TASK      </td><td>0</td><td>0</td><td>02/13 08:30:37</td><td>                                              </td><td>76   </td><td>0    </td></tr>",
                            "<tr><td>78   </td><td>sleeping                      </td><td>SRVDB01D\\Administrator</td><td>SRVDB01D          </td><td>  .</td><td>AdventureWorks2019</td><td>AWAITING COMMAND        </td><td>234</td><td>1461</td><td>02/13 12:31:00</td><td>Microsoft SQL Server Management Studio - Query</td><td>78   </td><td>0    </td></tr>",
                            "</table>"
                        ]
                    }
                }
            ],
            "execution_count": 22
        },
        {
            "cell_type": "code",
            "source": [
                "EXEC xp_readerrorlog 0, 1, N'error'\n",
                "\n",
                "\n",
                "SELECT Text\n",
                "FROM OPENQUERY (MYSERVER, \n",
                "  'EXEC msdb.dbo.sp_help_job @job_name = ''My Job'', @job_aspect = ''JOB''');  \n",
                "\n",
                "\n",
                ""
            ],
            "metadata": {
                "language": "sql",
                "azdata_cell_guid": "d3ecad03-1235-4c64-bd4a-d22de1ffe009"
            },
            "outputs": [
                {
                    "output_type": "display_data",
                    "data": {
                        "text/html": "(2 rows affected)"
                    },
                    "metadata": {}
                },
                {
                    "output_type": "display_data",
                    "data": {
                        "text/html": "Total execution time: 00:00:00.032"
                    },
                    "metadata": {}
                },
                {
                    "output_type": "execute_result",
                    "metadata": {},
                    "execution_count": 27,
                    "data": {
                        "application/vnd.dataresource+json": {
                            "schema": {
                                "fields": [
                                    {
                                        "name": "LogDate"
                                    },
                                    {
                                        "name": "ProcessInfo"
                                    },
                                    {
                                        "name": "Text"
                                    }
                                ]
                            },
                            "data": [
                                {
                                    "0": "2023-02-11 17:08:53.850",
                                    "1": "Server",
                                    "2": "Logging SQL Server messages in file 'C:\\MSSQL\\engine\\MSSQL16.LAB\\MSSQL\\Log\\ERRORLOG'."
                                },
                                {
                                    "0": "2023-02-11 17:08:53.850",
                                    "1": "Server",
                                    "2": "Registry startup parameters: \r\n\t -d C:\\MSSQL\\engine\\MSSQL16.LAB\\MSSQL\\DATA\\master.mdf\r\n\t -e C:\\MSSQL\\engine\\MSSQL16.LAB\\MSSQL\\Log\\ERRORLOG\r\n\t -l C:\\MSSQL\\engine\\MSSQL16.LAB\\MSSQL\\DATA\\mastlog.ldf"
                                }
                            ]
                        },
                        "text/html": [
                            "<table>",
                            "<tr><th>LogDate</th><th>ProcessInfo</th><th>Text</th></tr>",
                            "<tr><td>2023-02-11 17:08:53.850</td><td>Server</td><td>Logging SQL Server messages in file 'C:\\MSSQL\\engine\\MSSQL16.LAB\\MSSQL\\Log\\ERRORLOG'.</td></tr>",
                            "<tr><td>2023-02-11 17:08:53.850</td><td>Server</td><td>Registry startup parameters: \r\n\t -d C:\\MSSQL\\engine\\MSSQL16.LAB\\MSSQL\\DATA\\master.mdf\r\n\t -e C:\\MSSQL\\engine\\MSSQL16.LAB\\MSSQL\\Log\\ERRORLOG\r\n\t -l C:\\MSSQL\\engine\\MSSQL16.LAB\\MSSQL\\DATA\\mastlog.ldf</td></tr>",
                            "</table>"
                        ]
                    }
                }
            ],
            "execution_count": 27
        },
        {
            "cell_type": "code",
            "source": [
                "/*\n",
                "       Stage a temp table and load results of SQL Error log\n",
                "*/\n",
                "\n",
                "/*\n",
                "Legacy way\n",
                "IF OBJECT_ID('tempdb.dbo.#SQLErrorLog') IS NOT NULL\n",
                "       DROP TABLE #SQLErrorLog\n",
                "*/\n",
                "\n",
                "use usuario;\n",
                "\n",
                "\n",
                "\n",
                "--SQL Server 2016+\n",
                "DROP TABLE IF EXISTS SQLErrorLog; --assuming SQL Server 2016+...otherwise use the typical if object exists drop\n",
                "\n",
                "CREATE TABLE SQLErrorLog\n",
                "(\n",
                "        LogDate     DATETIME\n",
                "       ,ProcessInfo\tNVARCHAR(12)\n",
                "       ,LogText     NVARCHAR(3999)\n",
                ")\n",
                "\n",
                "delete from SQLErrorLog;\n",
                "GO\n",
                "\n",
                "\n",
                "\n",
                "INSERT INTO SQLErrorLog\n",
                "(\n",
                "\tLogDate\n",
                "   ,ProcessInfo\n",
                "   ,LogText\n",
                ")\n",
                "EXEC xp_readerrorlog 0, 1, N'error';\n",
                "GO\n",
                "\n",
                "SELECT LogText FROM SQLErrorLog; -- this is your output table"
            ],
            "metadata": {
                "language": "sql",
                "azdata_cell_guid": "19f78496-f648-4c4a-bb3f-9d5e1b6afa7b"
            },
            "outputs": [
                {
                    "output_type": "display_data",
                    "data": {
                        "text/html": "(0 rows affected)"
                    },
                    "metadata": {}
                },
                {
                    "output_type": "display_data",
                    "data": {
                        "text/html": "(2 rows affected)"
                    },
                    "metadata": {}
                },
                {
                    "output_type": "display_data",
                    "data": {
                        "text/html": "(2 rows affected)"
                    },
                    "metadata": {}
                },
                {
                    "output_type": "display_data",
                    "data": {
                        "text/html": "Total execution time: 00:00:00.042"
                    },
                    "metadata": {}
                },
                {
                    "output_type": "execute_result",
                    "metadata": {},
                    "execution_count": 34,
                    "data": {
                        "application/vnd.dataresource+json": {
                            "schema": {
                                "fields": [
                                    {
                                        "name": "LogText"
                                    }
                                ]
                            },
                            "data": [
                                {
                                    "0": "Logging SQL Server messages in file 'C:\\MSSQL\\engine\\MSSQL16.LAB\\MSSQL\\Log\\ERRORLOG'."
                                },
                                {
                                    "0": "Registry startup parameters: \r\n\t -d C:\\MSSQL\\engine\\MSSQL16.LAB\\MSSQL\\DATA\\master.mdf\r\n\t -e C:\\MSSQL\\engine\\MSSQL16.LAB\\MSSQL\\Log\\ERRORLOG\r\n\t -l C:\\MSSQL\\engine\\MSSQL16.LAB\\MSSQL\\DATA\\mastlog.ldf"
                                }
                            ]
                        },
                        "text/html": [
                            "<table>",
                            "<tr><th>LogText</th></tr>",
                            "<tr><td>Logging SQL Server messages in file 'C:\\MSSQL\\engine\\MSSQL16.LAB\\MSSQL\\Log\\ERRORLOG'.</td></tr>",
                            "<tr><td>Registry startup parameters: \r\n\t -d C:\\MSSQL\\engine\\MSSQL16.LAB\\MSSQL\\DATA\\master.mdf\r\n\t -e C:\\MSSQL\\engine\\MSSQL16.LAB\\MSSQL\\Log\\ERRORLOG\r\n\t -l C:\\MSSQL\\engine\\MSSQL16.LAB\\MSSQL\\DATA\\mastlog.ldf</td></tr>",
                            "</table>"
                        ]
                    }
                }
            ],
            "execution_count": 34
        }
    ]
}